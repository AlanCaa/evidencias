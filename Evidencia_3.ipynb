{
  "nbformat": 4,
  "nbformat_minor": 0,
  "metadata": {
    "colab": {
      "provenance": [],
      "authorship_tag": "ABX9TyPJ+c4IFZJVp33Pp/Hhmr36",
      "include_colab_link": true
    },
    "kernelspec": {
      "name": "python3",
      "display_name": "Python 3"
    },
    "language_info": {
      "name": "python"
    }
  },
  "cells": [
    {
      "cell_type": "markdown",
      "metadata": {
        "id": "view-in-github",
        "colab_type": "text"
      },
      "source": [
        "<a href=\"https://colab.research.google.com/github/AlanCaa/evidencias/blob/Ev3/Evidencia_3.ipynb\" target=\"_parent\"><img src=\"https://colab.research.google.com/assets/colab-badge.svg\" alt=\"Open In Colab\"/></a>"
      ]
    },
    {
      "cell_type": "code",
      "execution_count": 15,
      "metadata": {
        "colab": {
          "base_uri": "https://localhost:8080/"
        },
        "id": "hYR2lzQNtBz4",
        "outputId": "e499ec54-c4b2-42b6-8e91-d3963432e809"
      },
      "outputs": [
        {
          "output_type": "stream",
          "name": "stdout",
          "text": [
            "Introduce nombre: Alan\n",
            "Introduce apellido: Castillo\n",
            "Introduce edad: 20\n",
            "Introduce matricula: 1954387\n",
            "Se ha serealizado alumnos\n",
            "Se ha deserealizado {'1954387': ['Alan', 'Castillo', '20']}\n"
          ]
        }
      ],
      "source": [
        "#Alan Josue Castillo Espinosa\n",
        "#1954387\n",
        "#Evidenncia 3\n",
        "\n",
        "import pickle\n",
        "def serializar(objeto):\n",
        "  try:\n",
        "    with open('serealizado.pickle', 'wb') as archivo:\n",
        "      pickle.dump(objeto, archivo)\n",
        "      return (f\"Se ha serealizado alumnos\")\n",
        "  except:\n",
        "    return \"Error al serializar\"\n",
        "\n",
        "def deserealizar():\n",
        "  try:\n",
        "    with open('serealizado.pickle', 'rb') as archivo:\n",
        "      # Carga los datos desde el archivo pickle\n",
        "      datos_cargados = pickle.load(archivo)\n",
        "      return (f\"Se ha deserealizado {datos_cargados}\")\n",
        "  except:\n",
        "    return \"No se ha podido deserealizar\"\n",
        "\n",
        "nombre = input(\"Introduce nombre: \")\n",
        "apellido = input(\"Introduce apellido: \")\n",
        "edad = input(\"Introduce edad: \")\n",
        "matricula = input(\"Introduce matricula: \")\n",
        "alumno = {}\n",
        "alumno [matricula] = [nombre, apellido, edad]\n",
        "\n",
        "print(serializar(alumno))\n",
        "\n",
        "print(deserealizar())"
      ]
    }
  ]
}