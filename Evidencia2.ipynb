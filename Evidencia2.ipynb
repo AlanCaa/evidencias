{
  "nbformat": 4,
  "nbformat_minor": 0,
  "metadata": {
    "colab": {
      "provenance": [],
      "authorship_tag": "ABX9TyM7uU9pGRZfya83yScmc2/P",
      "include_colab_link": true
    },
    "kernelspec": {
      "name": "python3",
      "display_name": "Python 3"
    },
    "language_info": {
      "name": "python"
    }
  },
  "cells": [
    {
      "cell_type": "markdown",
      "metadata": {
        "id": "view-in-github",
        "colab_type": "text"
      },
      "source": [
        "<a href=\"https://colab.research.google.com/github/AlanCaa/evidencias/blob/ev2/Evidencia2.ipynb\" target=\"_parent\"><img src=\"https://colab.research.google.com/assets/colab-badge.svg\" alt=\"Open In Colab\"/></a>"
      ]
    },
    {
      "cell_type": "code",
      "execution_count": 6,
      "metadata": {
        "colab": {
          "base_uri": "https://localhost:8080/"
        },
        "id": "USXx_aFihRT9",
        "outputId": "148b6b42-1e67-48aa-abde-82ce2125dd6d"
      },
      "outputs": [
        {
          "output_type": "stream",
          "name": "stdout",
          "text": [
            "\n",
            "Recibo:\n",
            "Nombre del producto: Cheetos\n",
            "Precio del producto: $18.00\n",
            "IVA (16%): $2.88\n",
            "Total a pagar: $20.88\n"
          ]
        }
      ],
      "source": [
        "# Alan Josue Castillo Espinosa\n",
        "# 1954387\n",
        "#Evidencia 2\n",
        "# Este código define una clase Recibo que representa un recibo de compra.\n",
        "\n",
        "class Recibo:\n",
        "    def __init__(self, nombre_producto='desconocido', precio_producto=10, iva=0.16):\n",
        "        # Inicializamos las variables necesarias en el constructor\n",
        "        self.nombre_producto = nombre_producto\n",
        "        self.precio_producto = precio_producto\n",
        "        self.iva = iva\n",
        "\n",
        "    @property\n",
        "    def calcular_iva(self):\n",
        "        return self.precio_producto * self.iva\n",
        "\n",
        "    # Método para imprimir el recibo\n",
        "    def imprimir_recibo(self):\n",
        "\n",
        "        iva_calculado = self.calcular_iva\n",
        "        total = self.precio_producto + iva_calculado\n",
        "\n",
        "        # Imprimimos el recibo\n",
        "        print(\"\\nRecibo:\")\n",
        "        print(f\"Nombre del producto: {self.nombre_producto}\")\n",
        "        print(f\"Precio del producto: ${self.precio_producto:.2f}\")\n",
        "        print(f\"IVA (16%): ${iva_calculado:.2f}\")\n",
        "        print(f\"Total a pagar: ${total:.2f}\")\n",
        "\n",
        "\n",
        "if __name__ == \"__main__\":\n",
        "    #empezamos instancia r\n",
        "    r = Recibo('Cheetos', 18)\n",
        "    #imprimimos el recibo\n",
        "    r.imprimir_recibo()\n"
      ]
    }
  ]
}